{
 "cells": [
  {
   "cell_type": "code",
   "execution_count": 1,
   "id": "3139d57e",
   "metadata": {},
   "outputs": [],
   "source": [
    "import pandas as pd"
   ]
  },
  {
   "cell_type": "code",
   "execution_count": 2,
   "id": "7a949ea6",
   "metadata": {},
   "outputs": [],
   "source": [
    "titanic = pd.read_csv(r\"/Users/karinashalya/Downloads/Titanic.csv\")"
   ]
  },
  {
   "cell_type": "code",
   "execution_count": 3,
   "id": "d269178b",
   "metadata": {},
   "outputs": [
    {
     "data": {
      "text/plain": [
       "891"
      ]
     },
     "execution_count": 3,
     "metadata": {},
     "output_type": "execute_result"
    }
   ],
   "source": [
    "titanic.PassengerId.count() # Смотрим кол-во пассажиров"
   ]
  },
  {
   "cell_type": "code",
   "execution_count": 4,
   "id": "d393c25f",
   "metadata": {},
   "outputs": [
    {
     "data": {
      "text/plain": [
       "29.69911764705882"
      ]
     },
     "execution_count": 4,
     "metadata": {},
     "output_type": "execute_result"
    }
   ],
   "source": [
    "titanic.Age.mean() # Cредний возраст пассажира"
   ]
  },
  {
   "cell_type": "code",
   "execution_count": 5,
   "id": "e055c0c4",
   "metadata": {},
   "outputs": [
    {
     "data": {
      "text/plain": [
       "32.204207968574636"
      ]
     },
     "execution_count": 5,
     "metadata": {},
     "output_type": "execute_result"
    }
   ],
   "source": [
    "titanic.Fare.mean() # Средняя стоимость билета"
   ]
  },
  {
   "cell_type": "code",
   "execution_count": 6,
   "id": "afe9f257",
   "metadata": {},
   "outputs": [
    {
     "data": {
      "text/plain": [
       "0.0"
      ]
     },
     "execution_count": 6,
     "metadata": {},
     "output_type": "execute_result"
    }
   ],
   "source": [
    "titanic.Fare.min() # Минимальная цена билета"
   ]
  },
  {
   "cell_type": "code",
   "execution_count": 7,
   "id": "4c101e90",
   "metadata": {},
   "outputs": [
    {
     "data": {
      "text/plain": [
       "512.3292"
      ]
     },
     "execution_count": 7,
     "metadata": {},
     "output_type": "execute_result"
    }
   ],
   "source": [
    "titanic.Fare.max() # Максимальная цена билета"
   ]
  },
  {
   "cell_type": "code",
   "execution_count": 8,
   "id": "fe6001f7",
   "metadata": {},
   "outputs": [
    {
     "data": {
      "text/plain": [
       "258                      Ward, Miss. Anna\n",
       "679    Cardeza, Mr. Thomas Drake Martinez\n",
       "737                Lesurer, Mr. Gustave J\n",
       "Name: Name, dtype: object"
      ]
     },
     "execution_count": 8,
     "metadata": {},
     "output_type": "execute_result"
    }
   ],
   "source": [
    "titanic.Name[titanic.Fare == titanic.Fare.max()] # Пассажир с максимальной ценой билета"
   ]
  },
  {
   "cell_type": "code",
   "execution_count": 9,
   "id": "3df99743",
   "metadata": {},
   "outputs": [
    {
     "data": {
      "text/plain": [
       "30.72664459161148"
      ]
     },
     "execution_count": 9,
     "metadata": {},
     "output_type": "execute_result"
    }
   ],
   "source": [
    "titanic.Age[titanic.Sex == \"male\"].mean() # Средний возраст мужчин"
   ]
  },
  {
   "cell_type": "code",
   "execution_count": 10,
   "id": "7cac6aff",
   "metadata": {},
   "outputs": [
    {
     "data": {
      "text/plain": [
       "27.915708812260537"
      ]
     },
     "execution_count": 10,
     "metadata": {},
     "output_type": "execute_result"
    }
   ],
   "source": [
    "titanic.Age[titanic.Sex == \"female\"].mean() # Средний возраст женщин"
   ]
  },
  {
   "cell_type": "code",
   "execution_count": 11,
   "id": "146d513c",
   "metadata": {},
   "outputs": [
    {
     "data": {
      "text/plain": [
       "0.18890814558058924"
      ]
     },
     "execution_count": 11,
     "metadata": {},
     "output_type": "execute_result"
    }
   ],
   "source": [
    "titanic.Survived[titanic.Sex == \"male\"].mean() # Средний процент выживаемости мужчин"
   ]
  },
  {
   "cell_type": "code",
   "execution_count": 12,
   "id": "edffc67a",
   "metadata": {},
   "outputs": [
    {
     "data": {
      "text/plain": [
       "0.7420382165605095"
      ]
     },
     "execution_count": 12,
     "metadata": {},
     "output_type": "execute_result"
    }
   ],
   "source": [
    "titanic.Survived[titanic.Sex == \"female\"].mean() # Средний процент выживаемости женщин"
   ]
  },
  {
   "cell_type": "code",
   "execution_count": 13,
   "id": "fced3cbc",
   "metadata": {},
   "outputs": [
    {
     "data": {
      "text/plain": [
       "Pclass\n",
       "1    84.154687\n",
       "2    20.662183\n",
       "3    13.675550\n",
       "Name: Fare, dtype: float64"
      ]
     },
     "execution_count": 13,
     "metadata": {},
     "output_type": "execute_result"
    }
   ],
   "source": [
    "titanic.groupby('Pclass')['Fare'].mean() # Средняя стоимость билета в зависимости от класса проживания"
   ]
  },
  {
   "cell_type": "code",
   "execution_count": 14,
   "id": "e47a61c1",
   "metadata": {},
   "outputs": [
    {
     "data": {
      "text/plain": [
       "Pclass\n",
       "3    491\n",
       "1    216\n",
       "2    184\n",
       "Name: count, dtype: int64"
      ]
     },
     "execution_count": 14,
     "metadata": {},
     "output_type": "execute_result"
    }
   ],
   "source": [
    "titanic['Pclass'].value_counts() # Количество билетов по классам проживания"
   ]
  },
  {
   "cell_type": "code",
   "execution_count": 15,
   "id": "c35ce3b5",
   "metadata": {},
   "outputs": [
    {
     "data": {
      "text/plain": [
       "342"
      ]
     },
     "execution_count": 15,
     "metadata": {},
     "output_type": "execute_result"
    }
   ],
   "source": [
    "titanic['Survived'].sum() # Количество выживших пассажиров"
   ]
  },
  {
   "cell_type": "code",
   "execution_count": null,
   "id": "f1fc8bd2",
   "metadata": {},
   "outputs": [],
   "source": []
  }
 ],
 "metadata": {
  "kernelspec": {
   "display_name": "Python 3 (ipykernel)",
   "language": "python",
   "name": "python3"
  },
  "language_info": {
   "codemirror_mode": {
    "name": "ipython",
    "version": 3
   },
   "file_extension": ".py",
   "mimetype": "text/x-python",
   "name": "python",
   "nbconvert_exporter": "python",
   "pygments_lexer": "ipython3",
   "version": "3.11.1"
  }
 },
 "nbformat": 4,
 "nbformat_minor": 5
}
